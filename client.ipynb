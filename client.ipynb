{
 "cells": [
  {
   "cell_type": "code",
   "execution_count": 7,
   "metadata": {},
   "outputs": [],
   "source": [
    "import socket\n",
    "import ssl"
   ]
  },
  {
   "cell_type": "code",
   "execution_count": 13,
   "metadata": {},
   "outputs": [],
   "source": [
    "host_addr = '127.0.0.1'\n",
    "host_port = 8086\n",
    "server_sni_hostname = 'example.com'\n",
    "server_cert = 'server.crt'\n",
    "client_cert = 'client.crt'\n",
    "client_key = 'client.key'"
   ]
  },
  {
   "cell_type": "code",
   "execution_count": 14,
   "metadata": {},
   "outputs": [
    {
     "name": "stdout",
     "output_type": "stream",
     "text": [
      "SSL established. Peer: {'subject': ((('countryName', 'ID'),), (('stateOrProvinceName', 'Jakarta'),), (('localityName', 'Jakarta'),), (('organizationName', 'BPS'),), (('organizationalUnitName', 'IPDS'),), (('commonName', 'example.com'),), (('emailAddress', 'bayu.setyawan@bps.go.id'),)), 'issuer': ((('countryName', 'ID'),), (('stateOrProvinceName', 'Jakarta'),), (('localityName', 'Jakarta'),), (('organizationName', 'BPS'),), (('organizationalUnitName', 'IPDS'),), (('commonName', 'example.com'),), (('emailAddress', 'bayu.setyawan@bps.go.id'),)), 'version': 3, 'serialNumber': '0EEBEE0DB6C900B75D04CAD1219523847EA4A5A2', 'notBefore': 'Sep 15 15:44:50 2019 GMT', 'notAfter': 'Sep 14 15:44:50 2020 GMT'}\n",
      "Sending: 'Hello, world!\n",
      "Closing connection\n"
     ]
    }
   ],
   "source": [
    "context = ssl.create_default_context(ssl.Purpose.SERVER_AUTH, cafile=server_cert)\n",
    "\n",
    "context.load_cert_chain(certfile=client_cert, keyfile=client_key)\n",
    "\n",
    "s = socket.socket(socket.AF_INET, socket.SOCK_STREAM)\n",
    "conn = context.wrap_socket(s, server_side=False, server_hostname=server_sni_hostname)\n",
    "conn.connect((host_addr, host_port))\n",
    "print(\"SSL established. Peer: {}\".format(conn.getpeercert()))\n",
    "print(\"Sending: 'Hello, world!\")\n",
    "conn.send(b\"Hello, world!\")\n",
    "print(\"Closing connection\")\n",
    "conn.close()"
   ]
  },
  {
   "cell_type": "code",
   "execution_count": null,
   "metadata": {},
   "outputs": [],
   "source": []
  }
 ],
 "metadata": {
  "kernelspec": {
   "display_name": "Python 3",
   "language": "python",
   "name": "python3"
  },
  "language_info": {
   "codemirror_mode": {
    "name": "ipython",
    "version": 3
   },
   "file_extension": ".py",
   "mimetype": "text/x-python",
   "name": "python",
   "nbconvert_exporter": "python",
   "pygments_lexer": "ipython3",
   "version": "3.7.3"
  }
 },
 "nbformat": 4,
 "nbformat_minor": 2
}
